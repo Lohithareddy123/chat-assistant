{
 "cells": [
  {
   "cell_type": "code",
   "execution_count": null,
   "metadata": {},
   "outputs": [],
   "source": [
    "import sqlite3\n",
    "\n",
    "def create_database(db_name=\"employee_data.db\"):\n",
    "    conn = sqlite3.connect(db_name)\n",
    "    cursor = conn.cursor()\n",
    "    \n",
    "    # Create Employees table\n",
    "    cursor.execute('''CREATE TABLE IF NOT EXISTS Employees (\n",
    "                        ID INTEGER PRIMARY KEY AUTOINCREMENT,\n",
    "                        Name TEXT NOT NULL,\n",
    "                        Department TEXT NOT NULL,\n",
    "                        Salary REAL NOT NULL,\n",
    "                        Hire_Date TEXT NOT NULL)''')\n",
    "    \n",
    "    # Create Departments table\n",
    "    cursor.execute('''CREATE TABLE IF NOT EXISTS Departments (\n",
    "                        ID INTEGER PRIMARY KEY AUTOINCREMENT,\n",
    "                        Name TEXT NOT NULL,\n",
    "                        Manager TEXT NOT NULL)''')\n",
    "    \n",
    "    # Insert sample data into Employees table\n",
    "    cursor.execute('''INSERT INTO Employees (Name, Department, Salary, Hire_Date) VALUES \n",
    "                      ('Alice', 'Sales', 50000, '2021-01-15'),\n",
    "                      ('Bob', 'Engineering', 70000, '2020-06-10'),\n",
    "                      ('Charlie', 'Marketing', 60000, '2022-03-20')''')\n",
    "\n",
    "    # Insert sample data into Departments table\n",
    "    cursor.execute('''INSERT INTO Departments (Name, Manager) VALUES\n",
    "                      ('Sales', 'Alice'),\n",
    "                      ('Engineering', 'Bob'),\n",
    "                      ('Marketing', 'Charlie')''')\n",
    "\n",
    "    conn.commit()\n",
    "    conn.close()\n",
    "\n",
    "# Call the function to create the database and tables\n",
    "create_database()"
   ]
  },
  {
   "cell_type": "code",
   "execution_count": null,
   "metadata": {},
   "outputs": [],
   "source": []
  },
  {
   "cell_type": "code",
   "execution_count": null,
   "metadata": {},
   "outputs": [],
   "source": []
  }
 ],
 "metadata": {
  "kernelspec": {
   "display_name": "Python 3",
   "language": "python",
   "name": "python3"
  },
  "language_info": {
   "codemirror_mode": {
    "name": "ipython",
    "version": 3
   },
   "file_extension": ".py",
   "mimetype": "text/x-python",
   "name": "python",
   "nbconvert_exporter": "python",
   "pygments_lexer": "ipython3",
   "version": "3.8.3"
  }
 },
 "nbformat": 4,
 "nbformat_minor": 4
}

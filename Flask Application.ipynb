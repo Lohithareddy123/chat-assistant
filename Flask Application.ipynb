{
 "cells": [
  {
   "cell_type": "code",
   "execution_count": 1,
   "metadata": {},
   "outputs": [
    {
     "name": "stdout",
     "output_type": "stream",
     "text": [
      "Requirement already satisfied: flask-ngrok in c:\\users\\lohitha\\anaconda3\\lib\\site-packages (0.0.25)\n",
      "Requirement already satisfied: requests in c:\\users\\lohitha\\anaconda3\\lib\\site-packages (from flask-ngrok) (2.24.0)\n",
      "Requirement already satisfied: Flask>=0.8 in c:\\users\\lohitha\\anaconda3\\lib\\site-packages (from flask-ngrok) (1.1.2)\n",
      "Requirement already satisfied: idna<3,>=2.5 in c:\\users\\lohitha\\anaconda3\\lib\\site-packages (from requests->flask-ngrok) (2.10)\n",
      "Requirement already satisfied: chardet<4,>=3.0.2 in c:\\users\\lohitha\\anaconda3\\lib\\site-packages (from requests->flask-ngrok) (3.0.4)\n",
      "Requirement already satisfied: urllib3!=1.25.0,!=1.25.1,<1.26,>=1.21.1 in c:\\users\\lohitha\\anaconda3\\lib\\site-packages (from requests->flask-ngrok) (1.25.9)\n",
      "Requirement already satisfied: certifi>=2017.4.17 in c:\\users\\lohitha\\anaconda3\\lib\\site-packages (from requests->flask-ngrok) (2020.6.20)\n",
      "Requirement already satisfied: Werkzeug>=0.15 in c:\\users\\lohitha\\anaconda3\\lib\\site-packages (from Flask>=0.8->flask-ngrok) (1.0.1)\n",
      "Requirement already satisfied: Jinja2>=2.10.1 in c:\\users\\lohitha\\anaconda3\\lib\\site-packages (from Flask>=0.8->flask-ngrok) (2.11.2)\n",
      "Requirement already satisfied: itsdangerous>=0.24 in c:\\users\\lohitha\\anaconda3\\lib\\site-packages (from Flask>=0.8->flask-ngrok) (1.1.0)\n",
      "Requirement already satisfied: click>=5.1 in c:\\users\\lohitha\\anaconda3\\lib\\site-packages (from Flask>=0.8->flask-ngrok) (7.1.2)\n",
      "Requirement already satisfied: MarkupSafe>=0.23 in c:\\users\\lohitha\\anaconda3\\lib\\site-packages (from Jinja2>=2.10.1->Flask>=0.8->flask-ngrok) (1.1.1)\n"
     ]
    }
   ],
   "source": [
    "!pip install flask-ngrok"
   ]
  },
  {
   "cell_type": "code",
   "execution_count": null,
   "metadata": {},
   "outputs": [],
   "source": [
    "import sqlite3\n",
    "import datetime\n",
    "from flask import Flask, request, jsonify\n",
    "from flask_ngrok import run_with_ngrok\n",
    "\n",
    "app = Flask(__name__)\n",
    "run_with_ngrok(app)  # Start ngrok when app is run\n",
    "\n",
    "def get_db_connection():\n",
    "    conn = sqlite3.connect('employee_data.db')\n",
    "    conn.row_factory = sqlite3.Row\n",
    "    return conn\n",
    "\n",
    "@app.route(\"/\", methods=[\"GET\", \"POST\"])\n",
    "def index():\n",
    "    response = {}\n",
    "    if request.method == \"POST\":\n",
    "        query = request.json.get(\"query\", \"\").lower()\n",
    "        try:\n",
    "            conn = get_db_connection()\n",
    "            cursor = conn.cursor()\n",
    "\n",
    "            if \"show me all employees in the\" in query:\n",
    "                department = query.split(\"show me all employees in the\")[1].strip().replace(\"department\", \"\").strip()\n",
    "                cursor.execute(\"SELECT * FROM Employees WHERE Department = ?\", (department,))\n",
    "                rows = cursor.fetchall()\n",
    "                response[\"results\"] = [dict(row) for row in rows]\n",
    "\n",
    "            elif \"who is the manager of the\" in query:\n",
    "                department = query.split(\"who is the manager of the\")[1].strip().replace(\"department\", \"\").strip()\n",
    "                cursor.execute(\"SELECT Manager FROM Departments WHERE Name = ?\", (department,))\n",
    "                row = cursor.fetchone()\n",
    "                response[\"result\"] = row[\"Manager\"] if row else \"No manager found.\"\n",
    "\n",
    "            elif \"list all employees hired after\" in query:\n",
    "                date_str = query.split(\"list all employees hired after\")[1].strip()\n",
    "                try:\n",
    "                    date = datetime.datetime.strptime(date_str, \"%Y-%m-%d\").date()\n",
    "                    cursor.execute(\"SELECT * FROM Employees WHERE Hire_Date > ?\", (date_str,))\n",
    "                    rows = cursor.fetchall()\n",
    "                    response[\"results\"] = [dict(row) for row in rows]\n",
    "                except ValueError:\n",
    "                    response[\"error\"] = \"Invalid date format. Please use YYYY-MM-DD.\"\n",
    "\n",
    "            elif \"what is the total salary expense for the\" in query:\n",
    "                department = query.split(\"what is the total salary expense for the\")[1].strip().replace(\"department\", \"\").strip()\n",
    "                cursor.execute(\"SELECT SUM(Salary) FROM Employees WHERE Department = ?\", (department,))\n",
    "                row = cursor.fetchone()\n",
    "                response[\"result\"] = row[0] if row else 0\n",
    "\n",
    "            else:\n",
    "                response[\"error\"] = \"I don't understand your query. Please try again.\"\n",
    "\n",
    "            conn.close()\n",
    "\n",
    "        except sqlite3.Error as e:\n",
    "            response[\"error\"] = f\"Database error: {e}\"\n",
    "        except Exception as e:\n",
    "            response[\"error\"] = f\"An error occurred: {e}\"\n",
    "\n",
    "    return jsonify(response)\n",
    "\n",
    "if __name__ == \"__main__\":\n",
    "    app.run()"
   ]
  },
  {
   "cell_type": "code",
   "execution_count": null,
   "metadata": {},
   "outputs": [],
   "source": [
    "!pip install requests"
   ]
  },
  {
   "cell_type": "code",
   "execution_count": null,
   "metadata": {},
   "outputs": [],
   "source": [
    "import requests\n",
    "\n",
    "url = \"<YOUR_NGROK_URL>\"  # Replace with the ngrok URL\n",
    "\n",
    "query = \"Show me all employees in the Sales department.\"\n",
    "response = requests.post(url, json={\"query\": query})\n",
    "print(response.json())"
   ]
  },
  {
   "cell_type": "code",
   "execution_count": null,
   "metadata": {},
   "outputs": [],
   "source": []
  }
 ],
 "metadata": {
  "kernelspec": {
   "display_name": "Python 3",
   "language": "python",
   "name": "python3"
  },
  "language_info": {
   "codemirror_mode": {
    "name": "ipython",
    "version": 3
   },
   "file_extension": ".py",
   "mimetype": "text/x-python",
   "name": "python",
   "nbconvert_exporter": "python",
   "pygments_lexer": "ipython3",
   "version": "3.8.3"
  }
 },
 "nbformat": 4,
 "nbformat_minor": 4
}
